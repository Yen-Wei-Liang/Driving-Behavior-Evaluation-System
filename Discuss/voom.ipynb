{
 "cells": [
  {
   "cell_type": "code",
   "execution_count": 100,
   "id": "a3c9f95f",
   "metadata": {},
   "outputs": [],
   "source": [
    "# Introduction\n",
    "# This project implements in python 2 algorithms for variable order markov models called Predict by Partial Match (PPM) \n",
    "# and Probabilistic Suffix Tree (PST). This code is based on the paper \"On Prediction Using Variable Order Markov Models\" \n",
    "#by Ron Begleiter, Ran El-Yaniv, and Golan Yona in the Journal of Artificial Intelligence Research 22 (2004) 385-421.\n",
    "# https://github.com/rpgomez/vomm/tree/master"
   ]
  },
  {
   "cell_type": "code",
   "execution_count": null,
   "id": "b4f22eae",
   "metadata": {},
   "outputs": [],
   "source": []
  },
  {
   "cell_type": "code",
   "execution_count": null,
   "id": "2b033221",
   "metadata": {},
   "outputs": [],
   "source": []
  },
  {
   "cell_type": "code",
   "execution_count": null,
   "id": "c8e0a17f",
   "metadata": {},
   "outputs": [],
   "source": [
    "##############################################################################\n",
    "#\n",
    "#  5群跑ppm\n",
    "#\n",
    "##############################################################################"
   ]
  },
  {
   "cell_type": "code",
   "execution_count": 35,
   "id": "b71a19f9",
   "metadata": {},
   "outputs": [],
   "source": [
    "training_data_Go = \"1121140020104002144444404024101121421211412212141410124140414412414114044004444041140222110041144114411141100420041024402424041441220204410404104204044104144010100114444214404141244221044000001011111111440041042102204144111004210021042204144111044221444214000144221110022042004404114040102104411041204411444112040240210142100011411401020400122024140421002242441144101044444001144440110411440424000144200022241114104102410202200144110040102221020440012204411044120410404042140014401412142111104422221110042102024120014001140201041014412420014004400444\" \n",
    "training_data_Go = [int(x) for x in training_data_Go]\n",
    "training_data_Idle = \"0010000010410000000010000040040000000010000000410001000101000000000141000040140410041000041000010041000000000000000010000000000140001000000000400010001000000140001410000000101400000001000000410411000100000000000104101000140014100104014401010041000410000100000104000004040140004100400004140010000100041000410100040014000010104001400004110000041000400141010041000010001400140000101400141004101001000410000140000010100000000410014004040000101400010041000100014100100004100010001400100041410040001410000000001041000000100000000400140000001000001040014101400140040000010000400004100140000000044000140010000000014001400004000410400000000140014000004400010000100400041000141040000410001414000000010004100000004100041000400101044010100010014100410001414001400410414100014110000100000141000100004100001000001100010040000100001400000400041014140004041004140040400041000101000041400110000141004000410141010000041410040004101001001004041004100000000040040000000140040000400101414004401401000140004101400040000011000100001410000400010000000000400040000140010001410100000000400000000000014100004004100400100040014000000001000404001404100001400040401004100001000414014000141000140001410041001400100001401000400040000001400001000000140401400141000411412120020004200121100000101002040022001000001000000001000000000001004411441140140044104110401020044000044010014010411040004110414000414110411421214012200404002404214220121100010010101024204401000000001120104010010100014000001441144014100001124100014100241100010401011140214020000021241104000000140214104101004410410002141244104100100001414000000144000010011244041001001141000140000000011001000100010424100004000001441244000210041400404004110014000000044400041441110400201401421440244100412400100004040114210100200410010110001142240441211001141041401142442440200001440201001044221041000010044001420144001040204202222440414002212410010002140010001144200004440204000202144441040004100024020000122424102000201440410004040214200440004104044204000212410010001410420100140021442000044201441201041004420244400241041001104410010424444404112441041021424402000014200410002110410000404110114210410044210410001011441401041040004440011112124144200402241424441002100000041004000001001141441011000010410100111401000010000010100000101000010010000000000011000010000000100000000100000000100010100101000000000000000000000000000100000000100000010100100000010001000100000110000000000000001100101000001000001000000101001004404412414441424433130041100010110001000100140024041004000000111011010000001000410000000000101000010000000110000410000010000000000000000000000110011001000111000410100001401014100110000040100000000100001001000001000001000010010000100100010100100000000100010010001000141001000000010001001400000010000010410100000000010004100000011010110001401410000010101144044244012020114242114221000000001140104021414001011014444000140114140244120001141101410410000440410001140002140200011100011044144011412004140141144141004110014101401000000401000010010000000100001001000101000000010000000010004100001000001000001000100000000000010000100010100001010000000001000100000101000000141000000000114110041100044400004401414000020141010140041140001104010000411214004441244104100001144101010104412444101114400004144422444241444444411140000000001400410004100001014100000001000010014110010001000001001011410000000000010101000010000110101000000100000000100000400041000000000000111000100400140400410000114404000004114101140140140000100024110001042000001410411001042010400412000101141011000201012000144011411000141200001014410410000000140000104000001441002100001404100140101441010040101000100000100000000001041100100101000140000011010000140000000001001000001010100010100000001000001100001000140001000041000001000004001041000000000140000410000000001400000100000001000000000001000041101010000100010011010100100001000100000000000100100000101010000000000011000000011110000000100000000000100000000000100000000000004110101001000101041100000001010000000000111010001000000000001000000040100010001000141100000000000100014000101004100001000000041100010110001410001000000000000001000001000041001100140400041000010010001000010014004410001000000400001000000000400041000010110011010000010101000000100004000000000001010100000100000400000101044100000001100144011020114143133333333\" \n",
    "training_data_Idle = [int(x) for x in training_data_Idle]\n",
    "training_data_Left = \"1121140020104002144444404024101121421211412212141410124140414412414114044004444041140222110041144114411141100420041024402424041441220204410404104204044104144010100114444214404141244221044000001011111111440041042102204144111004210021042204144111044221444214000144221110022042004404114040102104411041204411444112040240210142100011411401020400122024140421002242441144101044444001144440110411440424000144200022241114104102410202200144110040102221020440012204411044120410404042140014401412142111104422221110042102024120014001140201041014412420014004400444\" \n",
    "training_data_Left = [int(x) for x in training_data_Left]\n",
    "training_data_Right = \"1121140020104002144444404024101121421211412212141410124140414412414114044004444041140222110041144114411141100420041024402424041441220204410404104204044104144010100114444214404141244221044000001011111111440041042102204144111004210021042204144111044221444214000144221110022042004404114040102104411041204411444112040240210142100011411401020400122024140421002242441144101044444001144440110411440424000144200022241114104102410202200144110040102221020440012204411044120410404042140014401412142111104422221110042102024120014001140201041014412420014004400444\" \n",
    "training_data_Right = [int(x) for x in training_data_Right]\n",
    "training_data_Two = \"1121140020104002144444404024101121421211412212141410124140414412414114044004444041140222110041144114411141100420041024402424041441220204410404104204044104144010100114444214404141244221044000001011111111440041042102204144111004210021042204144111044221444214000144221110022042004404114040102104411041204411444112040240210142100011411401020400122024140421002242441144101044444001144440110411440424000144200022241114104102410202200144110040102221020440012204411044120410404042140014401412142111104422221110042102024120014001140201041014412420014004400444\" \n",
    "training_data_Two = [int(x) for x in training_data_Two]\n",
    "training_data_U = \"1121140020104002144444404024101121421211412212141410124140414412414114044004444041140222110041144114411141100420041024402424041441220204410404104204044104144010100114444214404141244221044000001011111111440041042102204144111004210021042204144111044221444214000144221110022042004404114040102104411041204411444112040240210142100011411401020400122024140421002242441144101044444001144440110411440424000144200022241114104102410202200144110040102221020440012204411044120410404042140014401412142111104422221110042102024120014001140201041014412420014004400444\" \n",
    "training_data_U = [int(x) for x in training_data_U]"
   ]
  },
  {
   "cell_type": "code",
   "execution_count": 39,
   "id": "c37412d3",
   "metadata": {},
   "outputs": [],
   "source": [
    "input_string_Go = \"24022041420010400200104410101241110214244004144111\"  #\n",
    "input_string_Go = [int(x) for x in input_string_Go]\n",
    "input_string_Idle = \"000100010011000100000010001424001010404101001404401141000000010001140041011020010011100101444101004041040014400044010011011401000414100110041144411104100401100420100014020000041101001410001400101040400100104014101011012001000024000010140410004410440410104410100100044100000011411441001410001410014104104110141100400100001401011440221440124121141\" #\n",
    "input_string_Idle = [int(x) for x in input_string_Idle]\n",
    "input_string_Left = \"40000211010411104142110404411001010004042400100011010000011100000110000000400000000001\" #\n",
    "input_string_Left = [int(x) for x in input_string_Left]\n",
    "input_string_Right = \"10041011100401401114241014144004000020201012144044024140040040101011444120\" #\n",
    "input_string_Right = [int(x) for x in input_string_Right]\n",
    "input_string_Two = \"2041242202441441441414414420120010004122000010040000000000100011104040400000000010133333333333333333333333333\" #\n",
    "input_string_Two = [int(x) for x in input_string_Two]\n",
    "input_string_U = \"004421441423332333312332433333332233333333233333333333333333333333232334333313343143414\" #\n",
    "input_string_U = [int(x) for x in input_string_U]"
   ]
  },
  {
   "cell_type": "code",
   "execution_count": 68,
   "id": "78aab228",
   "metadata": {},
   "outputs": [],
   "source": [
    "Idle_Model = vomm.ppm()\n",
    "Idle_Model.fit(training_data_Idle, d=90, alphabet_size=5)"
   ]
  },
  {
   "cell_type": "code",
   "execution_count": 42,
   "id": "9326dd16",
   "metadata": {},
   "outputs": [
    {
     "name": "stdout",
     "output_type": "stream",
     "text": [
      "Idle Model for Go Straight\n",
      "Log Probability: -90.19091708405594 \n",
      "\n",
      "Idle Model for Idle\n",
      "Log Probability: -511.8739503972719 \n",
      "\n",
      "Idle Model for Turn Left\n",
      "Log Probability: -120.63684116868956 \n",
      "\n",
      "Idle Model for Turn Right\n",
      "Log Probability: -120.87381277397323 \n",
      "\n",
      "Idle Model for Two-Stage Left\n",
      "Log Probability: -155.38721273071133 \n",
      "\n",
      "Idle Model for U-turn\n",
      "Log Probability: -130.2661596831874 \n",
      "\n"
     ]
    }
   ],
   "source": [
    "Idle_Model_log_prob_GO = Idle_Model.logpdf(input_string_Go)\n",
    "print(f\"Idle Model for Go Straight\\nLog Probability:\", Idle_Model_log_prob_GO,'\\n')\n",
    "\n",
    "Idle_Model_log_prob_Idle = Idle_Model.logpdf(input_string_Idle)\n",
    "print(f\"Idle Model for Idle\\nLog Probability:\", Idle_Model_log_prob_Idle,'\\n')\n",
    "\n",
    "Idle_Model_log_prob_Left = Idle_Model.logpdf(input_string_Left)\n",
    "print(f\"Idle Model for Turn Left\\nLog Probability:\", Idle_Model_log_prob_Left,'\\n')\n",
    "\n",
    "Idle_Model_log_prob_Right = Idle_Model.logpdf(input_string_Right)\n",
    "print(f\"Idle Model for Turn Right\\nLog Probability:\", Idle_Model_log_prob_Right,'\\n')\n",
    "\n",
    "Idle_Model_log_prob_Two = Idle_Model.logpdf(input_string_Two)\n",
    "print(f\"Idle Model for Two-Stage Left\\nLog Probability:\", Idle_Model_log_prob_Two,'\\n')\n",
    "\n",
    "Idle_Model_log_prob_U = Idle_Model.logpdf(input_string_U)\n",
    "print(f\"Idle Model for U-turn\\nLog Probability:\", Idle_Model_log_prob_U,'\\n')"
   ]
  },
  {
   "cell_type": "code",
   "execution_count": 66,
   "id": "5e73071d",
   "metadata": {},
   "outputs": [],
   "source": [
    "Go_Model = vomm.ppm()\n",
    "Go_Model.fit(training_data_Go, d=90, alphabet_size=5)"
   ]
  },
  {
   "cell_type": "code",
   "execution_count": 67,
   "id": "e4c240da",
   "metadata": {},
   "outputs": [
    {
     "name": "stdout",
     "output_type": "stream",
     "text": [
      "Go Model for Go Straight\n",
      "Log Probability: -84.8793055982941 \n",
      "\n",
      "Go Model for Idle\n",
      "Log Probability: -631.2328844606315 \n",
      "\n",
      "Go Model for Turn Left\n",
      "Log Probability: -156.77185050499654 \n",
      "\n",
      "Go Model for Turn Right\n",
      "Log Probability: -141.64390530304757 \n",
      "\n",
      "Go Model for Two-Stage Left \n",
      "Log Probability: -307.4729359114867 \n",
      "\n",
      "Go Model for U-turn\n",
      "Log Probability: -371.0283724083587 \n",
      "\n"
     ]
    }
   ],
   "source": [
    "Go_Model_log_prob_GO = Go_Model.logpdf(input_string_Go)\n",
    "print(f\"Go Model for Go Straight\\nLog Probability:\", Go_Model_log_prob_GO,'\\n')\n",
    "Go_Model_log_prob_Idle = Go_Model.logpdf(input_string_Idle)\n",
    "print(f\"Go Model for Idle\\nLog Probability:\", Go_Model_log_prob_Idle,'\\n')\n",
    "Go_Model_log_prob_Left = Go_Model.logpdf(input_string_Left)\n",
    "print(f\"Go Model for Turn Left\\nLog Probability:\", Go_Model_log_prob_Left,'\\n')\n",
    "Go_Model_log_prob_Right = Go_Model.logpdf(input_string_Right)\n",
    "print(f\"Go Model for Turn Right\\nLog Probability:\", Go_Model_log_prob_Right,'\\n')\n",
    "Go_Model_log_prob_Two = Go_Model.logpdf(input_string_Two)\n",
    "print(f\"Go Model for Two-Stage Left \\nLog Probability:\", Go_Model_log_prob_Two,'\\n')\n",
    "Go_Model_log_prob_U = Go_Model.logpdf(input_string_U)\n",
    "print(f\"Go Model for U-turn\\nLog Probability:\", Go_Model_log_prob_U,'\\n')"
   ]
  },
  {
   "cell_type": "code",
   "execution_count": null,
   "id": "b0c9339c",
   "metadata": {},
   "outputs": [],
   "source": []
  },
  {
   "cell_type": "code",
   "execution_count": 64,
   "id": "e8a30348",
   "metadata": {},
   "outputs": [],
   "source": [
    "Left_Model = vomm.ppm()\n",
    "Left_Model.fit(training_data_Left, d=90, alphabet_size=5)"
   ]
  },
  {
   "cell_type": "code",
   "execution_count": 65,
   "id": "644ec000",
   "metadata": {},
   "outputs": [
    {
     "name": "stdout",
     "output_type": "stream",
     "text": [
      "Left Model for Go Straight\n",
      "Log Probability: -84.8793055982941 \n",
      "\n",
      "Left Model for Idle\n",
      "Log Probability: -631.2328844606315 \n",
      "\n",
      "Left Model for Trun Left\n",
      "Log Probability: -156.77185050499654 \n",
      "\n",
      "Left Model for Turn Right\n",
      "Log Probability: -141.64390530304757 \n",
      "\n",
      "Left Model for Two-Stage Left\n",
      "Log Probability: -307.4729359114867 \n",
      "\n",
      "Left Model for U-turn\n",
      "Log Probability: -371.0283724083587 \n",
      "\n"
     ]
    }
   ],
   "source": [
    "Left_Model_log_prob_GO = Left_Model.logpdf(input_string_Go)\n",
    "print(f\"Left Model for Go Straight\\nLog Probability:\", Left_Model_log_prob_GO,'\\n')\n",
    "\n",
    "Left_Model_log_prob_Idle = Left_Model.logpdf(input_string_Idle)\n",
    "print(f\"Left Model for Idle\\nLog Probability:\", Left_Model_log_prob_Idle,'\\n')\n",
    "\n",
    "Left_Model_log_prob_Left = Left_Model.logpdf(input_string_Left)\n",
    "print(f\"Left Model for Trun Left\\nLog Probability:\", Left_Model_log_prob_Left,'\\n')\n",
    "\n",
    "Left_Model_log_prob_Right = Left_Model.logpdf(input_string_Right)\n",
    "print(f\"Left Model for Turn Right\\nLog Probability:\", Left_Model_log_prob_Right,'\\n')\n",
    "\n",
    "Left_Model_log_prob_Two = Left_Model.logpdf(input_string_Two)\n",
    "print(f\"Left Model for Two-Stage Left\\nLog Probability:\", Left_Model_log_prob_Two,'\\n')\n",
    "\n",
    "Left_Model_log_prob_U = Left_Model.logpdf(input_string_U)\n",
    "print(f\"Left Model for U-turn\\nLog Probability:\", Left_Model_log_prob_U,'\\n')"
   ]
  },
  {
   "cell_type": "code",
   "execution_count": null,
   "id": "85f81418",
   "metadata": {},
   "outputs": [],
   "source": []
  },
  {
   "cell_type": "code",
   "execution_count": 57,
   "id": "2118c6fe",
   "metadata": {},
   "outputs": [],
   "source": [
    "Right_Model = vomm.ppm()\n",
    "Right_Model.fit(training_data_Right, d=90, alphabet_size=5)"
   ]
  },
  {
   "cell_type": "code",
   "execution_count": 59,
   "id": "04b5b227",
   "metadata": {},
   "outputs": [
    {
     "name": "stdout",
     "output_type": "stream",
     "text": [
      "Right Model for Go Straight\n",
      "Log Probability: -84.8793055982941 \n",
      "\n",
      "Right Model for Idle\n",
      "Log Probability: -631.2328844606315 \n",
      "\n",
      "Right Model for Turn Left\n",
      "Log Probability: -156.77185050499654 \n",
      "\n",
      "Right Model for Turn Right\n",
      "Log Probability: -141.64390530304757 \n",
      "\n",
      "Right Model for Two-Stage Left\n",
      "Log Probability: -307.4729359114867 \n",
      "\n",
      "Right Model for U-turn\n",
      "Log Probability: -371.0283724083587 \n",
      "\n"
     ]
    }
   ],
   "source": [
    "Right_Model_log_prob_GO = Right_Model.logpdf(input_string_Go)\n",
    "print(f\"Right Model for Go Straight\\nLog Probability:\", Right_Model_log_prob_GO,'\\n')\n",
    "\n",
    "Right_Model_log_prob_Idle = Right_Model.logpdf(input_string_Idle)\n",
    "print(f\"Right Model for Idle\\nLog Probability:\", Right_Model_log_prob_Idle,'\\n')\n",
    "\n",
    "Right_Model_log_prob_Left = Right_Model.logpdf(input_string_Left)\n",
    "print(f\"Right Model for Turn Left\\nLog Probability:\", Right_Model_log_prob_Left,'\\n')\n",
    "\n",
    "Right_Model_log_prob_Right = Right_Model.logpdf(input_string_Right)\n",
    "print(f\"Right Model for Turn Right\\nLog Probability:\", Right_Model_log_prob_Right,'\\n')\n",
    "\n",
    "Right_Model_log_prob_Two = Right_Model.logpdf(input_string_Two)\n",
    "print(f\"Right Model for Two-Stage Left\\nLog Probability:\", Right_Model_log_prob_Two,'\\n')\n",
    "\n",
    "Right_Model_log_prob_U = Right_Model.logpdf(input_string_U)\n",
    "print(f\"Right Model for U-turn\\nLog Probability:\", Right_Model_log_prob_U,'\\n')"
   ]
  },
  {
   "cell_type": "code",
   "execution_count": null,
   "id": "eaee7e94",
   "metadata": {},
   "outputs": [],
   "source": []
  },
  {
   "cell_type": "code",
   "execution_count": 60,
   "id": "5a75139b",
   "metadata": {},
   "outputs": [],
   "source": [
    "Two_Model = vomm.ppm()\n",
    "Two_Model.fit(training_data_Two, d=90, alphabet_size=5)"
   ]
  },
  {
   "cell_type": "code",
   "execution_count": 61,
   "id": "e3a4f392",
   "metadata": {},
   "outputs": [
    {
     "name": "stdout",
     "output_type": "stream",
     "text": [
      "Two Model for Go Straight\n",
      "Log Probability: -84.8793055982941 \n",
      "\n",
      "Two Model for Idle\n",
      "Log Probability: -631.2328844606315 \n",
      "\n",
      "Two Model for Turn Left\n",
      "Log Probability: -156.77185050499654 \n",
      "\n",
      "Two Model for Turn Right\n",
      "Log Probability: -141.64390530304757 \n",
      "\n",
      "Two Model for Two-Stage Left\n",
      "Log Probability: -307.4729359114867 \n",
      "\n",
      "Two Model for U-turn\n",
      "Log Probability: -371.0283724083587 \n",
      "\n"
     ]
    }
   ],
   "source": [
    "Two_Model_log_prob_GO = Two_Model.logpdf(input_string_Go)\n",
    "print(f\"Two Model for Go Straight\\nLog Probability:\", Two_Model_log_prob_GO,'\\n')\n",
    "\n",
    "Two_Model_log_prob_Idle = Two_Model.logpdf(input_string_Idle)\n",
    "print(f\"Two Model for Idle\\nLog Probability:\", Two_Model_log_prob_Idle,'\\n')\n",
    "\n",
    "Two_Model_log_prob_Left = Two_Model.logpdf(input_string_Left)\n",
    "print(f\"Two Model for Turn Left\\nLog Probability:\", Two_Model_log_prob_Left,'\\n')\n",
    "\n",
    "Two_Model_log_prob_Right = Two_Model.logpdf(input_string_Right)\n",
    "print(f\"Two Model for Turn Right\\nLog Probability:\", Two_Model_log_prob_Right,'\\n')\n",
    "\n",
    "Two_Model_log_prob_Two = Two_Model.logpdf(input_string_Two)\n",
    "print(f\"Two Model for Two-Stage Left\\nLog Probability:\", Two_Model_log_prob_Two,'\\n')\n",
    "\n",
    "Two_Model_log_prob_U = Two_Model.logpdf(input_string_U)\n",
    "print(f\"Two Model for U-turn\\nLog Probability:\", Two_Model_log_prob_U,'\\n')"
   ]
  },
  {
   "cell_type": "code",
   "execution_count": null,
   "id": "f0f3f4b3",
   "metadata": {},
   "outputs": [],
   "source": []
  },
  {
   "cell_type": "code",
   "execution_count": 62,
   "id": "1b26ccee",
   "metadata": {},
   "outputs": [],
   "source": [
    "U_Model = vomm.ppm()\n",
    "U_Model.fit(training_data_U, d=90, alphabet_size=5)"
   ]
  },
  {
   "cell_type": "code",
   "execution_count": 63,
   "id": "e381b2bb",
   "metadata": {},
   "outputs": [
    {
     "name": "stdout",
     "output_type": "stream",
     "text": [
      "U Model for Go Straight\n",
      "Log Probability: -84.8793055982941 \n",
      "\n",
      "U Model for Idle\n",
      "Log Probability: -631.2328844606315 \n",
      "\n",
      "U Model for Turn left\n",
      "Log Probability: -156.77185050499654 \n",
      "\n",
      "U Model for Turn Right\n",
      "Log Probability: -141.64390530304757 \n",
      "\n",
      "U Model for Two-Stage Left\n",
      "Log Probability: -307.4729359114867 \n",
      "\n",
      "U Model for U-turn\n",
      "Log Probability: -371.0283724083587 \n",
      "\n"
     ]
    }
   ],
   "source": [
    "U_Model_log_prob_GO = U_Model.logpdf(input_string_Go)\n",
    "print(f\"U Model for Go Straight\\nLog Probability:\", U_Model_log_prob_GO,'\\n')\n",
    "\n",
    "U_Model_log_prob_Idle = U_Model.logpdf(input_string_Idle)\n",
    "print(f\"U Model for Idle\\nLog Probability:\", U_Model_log_prob_Idle,'\\n')\n",
    "\n",
    "U_Model_log_prob_Left = U_Model.logpdf(input_string_Left)\n",
    "print(f\"U Model for Turn left\\nLog Probability:\", U_Model_log_prob_Left,'\\n')\n",
    "\n",
    "U_Model_log_prob_Right = U_Model.logpdf(input_string_Right)\n",
    "print(f\"U Model for Turn Right\\nLog Probability:\", U_Model_log_prob_Right,'\\n')\n",
    "\n",
    "U_Model_log_prob_Two = U_Model.logpdf(input_string_Two)\n",
    "print(f\"U Model for Two-Stage Left\\nLog Probability:\", U_Model_log_prob_Two,'\\n')\n",
    "\n",
    "U_Model_log_prob_U = U_Model.logpdf(input_string_U)\n",
    "print(f\"U Model for U-turn\\nLog Probability:\", U_Model_log_prob_U,'\\n')"
   ]
  },
  {
   "cell_type": "code",
   "execution_count": null,
   "id": "99a17f5f",
   "metadata": {},
   "outputs": [],
   "source": []
  },
  {
   "cell_type": "code",
   "execution_count": null,
   "id": "6b8a4c70",
   "metadata": {},
   "outputs": [],
   "source": []
  },
  {
   "cell_type": "code",
   "execution_count": null,
   "id": "7da3b2e1",
   "metadata": {},
   "outputs": [],
   "source": []
  },
  {
   "cell_type": "code",
   "execution_count": 69,
   "id": "264e1924",
   "metadata": {},
   "outputs": [],
   "source": [
    "\n",
    "##############################################################################\n",
    "#\n",
    "#  4群跑ppm\n",
    "#\n",
    "##############################################################################\n"
   ]
  },
  {
   "cell_type": "code",
   "execution_count": 70,
   "id": "bdd4958d",
   "metadata": {},
   "outputs": [],
   "source": [
    "training_data_Go = \"0010022212022021012222201211020010210100201101020200012022102201202002022021122020022111002220022002200020020210220212221212210220112122202102022102222022022202022002222102202020121110022220220000000000220220211001122022000222100210021122022000012110222102222022110002211221202202002222021022200020122200222001220120102021022200200220010202011212022210021121210022020022221200022222002200220112222011122011120002001021202101122022000222001110212220001101200222012200221021022202220201021000022211110002221001212012202220020100020201201112202221202222\" \n",
    "training_data_Go = [int(x) for x in training_data_Go]\n",
    "training_data_Idle = \"30202022202202020222202002020222222020002020000202000022020200200220020202220022200020202020202002020200002020222022002020202020022200200222022200200220002002020220200020202020220202020222022200200202020002202022022020202022202022002202220202220202202022020200022222202020022002000202222020202002020020202202022222002222202002020220022000222220220200020200020202202020202022222020222020202020220202202002020222202000020202202002022220020000200002020222000202002002202020200020202022220202020220202202002200220222202020222020202022220200220020220202020202020222220200200202022022022222220222022022202220020202020202222222202222220202020202022022202202002020202020202020222202200220202022020202002022000222020020200202020222202020202202020202220202220202200202020202002202020202020222022202022020222220020202222202020020200200222020202020202020222020020202220202020220220222002002020222022202020202202020202020222020020220202020202022220202020222022202022220202222020202022200200020022202020202220002200002020220202022220200220022202220222202022202020202022200000220222222020202000222022000202020022202020202020200202200202022200222022200022022020222202202022020022020200200020200222022220200220222022200220202220202022022200222020022200201012212222122010022202020221220011220220220022022020202002220020002200220020022022022002220212222002222200002200200220222002202202202002200210102201122222201222102112010022002202020012122220202020200012002002002002202202020220022202020220012002002002120022200220000022102012222210120022000022022102002020022200200221020122022022020220202200002022002200200122020000200020220020002000200220022002200212002022222020220122002100220220222202002002200022022222220220000122100220210222122002201222020022022002102022102202002002220021122220100220020220220021221222122200222120200222110220222202022200210022200220122121111222202221101202002221020202220022120202222102222101022220220222020212010222011212021202100222202202022102102222022002222102222101200202200200212020020210221222022120220120220202212122222120220200002202202212222202001220220210212201222002122202021002200022222002002102200022102200200200220220220222222220200001012022120221120212220201022022220222200220220020220200020202200022000220020200222002020222020220200202002202022200202002220200000020202020202022020202000020022020200002022220200200202020200202002000202020022000000200022022022002222020220202020020020202020202020222202020020021222201202120112233000220000000000000020002022212220222020020000200202000020020202200222222020220002220002002020202022202200022020222202220202002000020222000220202002220220202022002202222002202022020020220220200020020002002202202002022200022022220222022202202220022020220222202202020020202000202200202200020202002202022000200200202002220220202202202020022222122201212002121002110002022020022022010202200200202122222022002022122012220020020202202220222202020020021020102200002200222022200201222022020022020202000002020220200200220222202202200022022020220202020220222202020200202022020200202020222220202002220020222202022020202002020202200200220022022202000200222020200022022002002020022222222222200202200210020202022220020220002000022200102202220122022002220022000200002201221020002222202022211222120221222200022002000020202202022002200202002020220022002202002000200222020000200202220202220202020020202222002020022202002222020022022202220202220200202000222022202022222200222002222020222002020022022022222020212002020221202020202200200021002200201222020020200222120201222022200200200020120000202202202222022020202022022020220221022020222022022000220200222000022002022002202202220220002022020020020220200202020020202002020020022020200020202022022020222020020200222022220022220220220222002020220220222020022020202202020220220222020220200222022222220220020020202020022202200202022022020202022020022020022002022020202202200202000202022200000200222022022222020020220222222022020222200202002020200202020020022220020202220200220000202000202022202000220202022020202220220020020020022222020202002020202022220220020220020002002220202220000202020222220020220202220220020022220220200202002220200202202202202220020020220220022022022220220022202002200200222200020202020002202022200020200002002020022020202002020022022200220020022200212002022033333333\" \n",
    "training_data_Idle = [int(x) for x in training_data_Idle]\n",
    "training_data_Left = \"020002002110200202122102222200220022222000222020202101201122200120100221212000100202222220000220210000200000002220020122222012222120000011022222022222220000000200222021222201000202222110000002200002222222000100022022220102000211220002222300002222222000220222203201222022222122200002200220122200022202002022000221221100101220021220221120020001202120212211211212120221221222002200212021002202002002020022200210022020200220020002200222200220002011120022010002200020222200222222222220222222221000102022202200100022222222220201012222200222000002101220222222222022222000000000200000000020010012220220022020222\" \n",
    "training_data_Left = [int(x) for x in training_data_Left]\n",
    "training_data_Right = \"022220220010100012222222022122220021000202200022202010100200120022222002222100122221200020220212102120020022020022022102220022002000220200200002002201022200102201020002010002000222210002200012220002022200121222200000022200222002000012122002221022200202101112020220000000001022220212010020001220100221001021002022022221022220020210200102020010021020002202022202102002022012021021220210220020220021022002002220220222212220220220122222222022200022102222222122201222002101001010002002222222220000222220222221202001122210000012020202202022020202\" \n",
    "training_data_Right = [int(x) for x in training_data_Right]\n",
    "training_data_Two = \"2122020210012021201210220000000021220020022202222022200022020020222333333333333333333333333333333333333333333220222002001220212212222222222212220000202010210021220020100000022202000002203333333333333333333333333333333333333330000020122200101020020211220122022222022202221222020021002022002002022220222203033333333333333333333333333333333333333333322221220102002220121202210211022200002212021000222200022020022232333333333333333333333333333333300221211222202020212021221000201111020200102020202201222000200200002220200003333333333333333333333333333333333333332022000220221222002002100102222202012222020022020220022000220222200002200023203333333333333333333333333333333333302221002320222002221020222022120222022202222020201222022020022020022222220202220020022200332333333333333333333333333333330102021120021002002220220102100222011021220201122000022000200010020202022022020000022233333333333333333333333333\" \n",
    "training_data_Two = [int(x) for x in training_data_Two]\n",
    "training_data_U = \"3331313333333333333333333313333313333333333313333333100212210220212002033331133332133331313333333333133133333133333333333333333033332332332101122012011231331333331333333131310113333133331313313333333333333333333333312320000201012020020022003033333313333333313333113133333133303033331333333333333333331333133333230322303123201\" \n",
    "training_data_U = [int(x) for x in training_data_U]"
   ]
  },
  {
   "cell_type": "code",
   "execution_count": 71,
   "id": "b0b94492",
   "metadata": {},
   "outputs": [],
   "source": [
    "input_string_Go = \"12011220210000220120022200000120002102121222012000\"  #\n",
    "input_string_Go = [int(x) for x in input_string_Go]\n",
    "input_string_Idle = \"222000000200220022202002220212000202202020200222220020220202200220022220200212000000022020222020022220222002220222002200200200022202020002220022200022002220020212022202012220220020220202020200020222200002002002020000201220220212202202022200022202222202002202022000222022022000200220200200020202202022022002020022202002220220200220110222012010010\" #\n",
    "input_string_Idle = [int(x) for x in input_string_Idle]\n",
    "input_string_Left = \"20022100202200022021002202200000202022221102022000002222200002202000222200222202222020\" #\n",
    "input_string_Left = [int(x) for x in input_string_Left]\n",
    "input_string_Right = \"02220200022220220002120202012222202212100201022022011022222022020000121012\" #\n",
    "input_string_Right = [int(x) for x in input_string_Right]\n",
    "input_string_Two = \"1220121101220220220202202210012202022011020202022200202202002200022222222222022202033333333333333333333333333\" #\n",
    "input_string_Two = [int(x) for x in input_string_Two]\n",
    "input_string_U = \"202210323113331333301331333333331133333333133333333333333333333333131333333333333023202\" #\n",
    "input_string_U = [int(x) for x in input_string_U]"
   ]
  },
  {
   "cell_type": "code",
   "execution_count": 82,
   "id": "2e339138",
   "metadata": {},
   "outputs": [],
   "source": [
    "Idle_Model = vomm.ppm()\n",
    "Idle_Model.fit(training_data_Idle, d=90, alphabet_size=5)"
   ]
  },
  {
   "cell_type": "code",
   "execution_count": 83,
   "id": "e4d724b1",
   "metadata": {},
   "outputs": [
    {
     "name": "stdout",
     "output_type": "stream",
     "text": [
      "Idle Model for Go Straight\n",
      "Log Probability: -74.74147190338995 \n",
      "\n",
      "Idle Model for Idle\n",
      "Log Probability: -410.8222685579972 \n",
      "\n",
      "Idle Model for Turn Left\n",
      "Log Probability: -109.42661870560926 \n",
      "\n",
      "Idle Model for Turn Right\n",
      "Log Probability: -103.99607008876404 \n",
      "\n",
      "Idle Model for Two-Stage Left\n",
      "Log Probability: -124.64362523708854 \n",
      "\n",
      "Idle Model for U-turn\n",
      "Log Probability: -124.59614872307596 \n",
      "\n"
     ]
    }
   ],
   "source": [
    "Idle_Model_log_prob_GO = Idle_Model.logpdf(input_string_Go)\n",
    "print(f\"Idle Model for Go Straight\\nLog Probability:\", Idle_Model_log_prob_GO,'\\n')\n",
    "\n",
    "Idle_Model_log_prob_Idle = Idle_Model.logpdf(input_string_Idle)\n",
    "print(f\"Idle Model for Idle\\nLog Probability:\", Idle_Model_log_prob_Idle,'\\n')\n",
    "\n",
    "Idle_Model_log_prob_Left = Idle_Model.logpdf(input_string_Left)\n",
    "print(f\"Idle Model for Turn Left\\nLog Probability:\", Idle_Model_log_prob_Left,'\\n')\n",
    "\n",
    "Idle_Model_log_prob_Right = Idle_Model.logpdf(input_string_Right)\n",
    "print(f\"Idle Model for Turn Right\\nLog Probability:\", Idle_Model_log_prob_Right,'\\n')\n",
    "\n",
    "Idle_Model_log_prob_Two = Idle_Model.logpdf(input_string_Two)\n",
    "print(f\"Idle Model for Two-Stage Left\\nLog Probability:\", Idle_Model_log_prob_Two,'\\n')\n",
    "\n",
    "Idle_Model_log_prob_U = Idle_Model.logpdf(input_string_U)\n",
    "print(f\"Idle Model for U-turn\\nLog Probability:\", Idle_Model_log_prob_U,'\\n')"
   ]
  },
  {
   "cell_type": "code",
   "execution_count": 72,
   "id": "62abe9b7",
   "metadata": {},
   "outputs": [],
   "source": [
    "Go_Model = vomm.ppm()\n",
    "Go_Model.fit(training_data_Go, d=90, alphabet_size=5)"
   ]
  },
  {
   "cell_type": "code",
   "execution_count": 73,
   "id": "45fe9475",
   "metadata": {},
   "outputs": [
    {
     "name": "stdout",
     "output_type": "stream",
     "text": [
      "Go Model for Go Straight\n",
      "Log Probability: -72.25095129103664 \n",
      "\n",
      "Go Model for Idle\n",
      "Log Probability: -469.7837251705601 \n",
      "\n",
      "Go Model for Turn Left\n",
      "Log Probability: -119.27671230841084 \n",
      "\n",
      "Go Model for Turn Right\n",
      "Log Probability: -106.1537312557503 \n",
      "\n",
      "Go Model for Two-Stage Left \n",
      "Log Probability: -282.1703315565474 \n",
      "\n",
      "Go Model for U-turn\n",
      "Log Probability: -406.98748857284437 \n",
      "\n"
     ]
    }
   ],
   "source": [
    "Go_Model_log_prob_GO = Go_Model.logpdf(input_string_Go)\n",
    "print(f\"Go Model for Go Straight\\nLog Probability:\", Go_Model_log_prob_GO,'\\n')\n",
    "Go_Model_log_prob_Idle = Go_Model.logpdf(input_string_Idle)\n",
    "print(f\"Go Model for Idle\\nLog Probability:\", Go_Model_log_prob_Idle,'\\n')\n",
    "Go_Model_log_prob_Left = Go_Model.logpdf(input_string_Left)\n",
    "print(f\"Go Model for Turn Left\\nLog Probability:\", Go_Model_log_prob_Left,'\\n')\n",
    "Go_Model_log_prob_Right = Go_Model.logpdf(input_string_Right)\n",
    "print(f\"Go Model for Turn Right\\nLog Probability:\", Go_Model_log_prob_Right,'\\n')\n",
    "Go_Model_log_prob_Two = Go_Model.logpdf(input_string_Two)\n",
    "print(f\"Go Model for Two-Stage Left \\nLog Probability:\", Go_Model_log_prob_Two,'\\n')\n",
    "Go_Model_log_prob_U = Go_Model.logpdf(input_string_U)\n",
    "print(f\"Go Model for U-turn\\nLog Probability:\", Go_Model_log_prob_U,'\\n')"
   ]
  },
  {
   "cell_type": "code",
   "execution_count": 74,
   "id": "0955f431",
   "metadata": {},
   "outputs": [],
   "source": [
    "Left_Model = vomm.ppm()\n",
    "Left_Model.fit(training_data_Left, d=90, alphabet_size=5)"
   ]
  },
  {
   "cell_type": "code",
   "execution_count": 75,
   "id": "5e0e7e01",
   "metadata": {},
   "outputs": [
    {
     "name": "stdout",
     "output_type": "stream",
     "text": [
      "Left Model for Go Straight\n",
      "Log Probability: -69.59408526272844 \n",
      "\n",
      "Left Model for Idle\n",
      "Log Probability: -449.3729975085691 \n",
      "\n",
      "Left Model for Trun Left\n",
      "Log Probability: -113.76413769129357 \n",
      "\n",
      "Left Model for Turn Right\n",
      "Log Probability: -106.45716052441327 \n",
      "\n",
      "Left Model for Two-Stage Left\n",
      "Log Probability: -213.5257757639015 \n",
      "\n",
      "Left Model for U-turn\n",
      "Log Probability: -268.5844555541892 \n",
      "\n"
     ]
    }
   ],
   "source": [
    "Left_Model_log_prob_GO = Left_Model.logpdf(input_string_Go)\n",
    "print(f\"Left Model for Go Straight\\nLog Probability:\", Left_Model_log_prob_GO,'\\n')\n",
    "\n",
    "Left_Model_log_prob_Idle = Left_Model.logpdf(input_string_Idle)\n",
    "print(f\"Left Model for Idle\\nLog Probability:\", Left_Model_log_prob_Idle,'\\n')\n",
    "\n",
    "Left_Model_log_prob_Left = Left_Model.logpdf(input_string_Left)\n",
    "print(f\"Left Model for Trun Left\\nLog Probability:\", Left_Model_log_prob_Left,'\\n')\n",
    "\n",
    "Left_Model_log_prob_Right = Left_Model.logpdf(input_string_Right)\n",
    "print(f\"Left Model for Turn Right\\nLog Probability:\", Left_Model_log_prob_Right,'\\n')\n",
    "\n",
    "Left_Model_log_prob_Two = Left_Model.logpdf(input_string_Two)\n",
    "print(f\"Left Model for Two-Stage Left\\nLog Probability:\", Left_Model_log_prob_Two,'\\n')\n",
    "\n",
    "Left_Model_log_prob_U = Left_Model.logpdf(input_string_U)\n",
    "print(f\"Left Model for U-turn\\nLog Probability:\", Left_Model_log_prob_U,'\\n')"
   ]
  },
  {
   "cell_type": "code",
   "execution_count": 76,
   "id": "0e99052a",
   "metadata": {},
   "outputs": [],
   "source": [
    "Right_Model = vomm.ppm()\n",
    "Right_Model.fit(training_data_Right, d=90, alphabet_size=5)"
   ]
  },
  {
   "cell_type": "code",
   "execution_count": 77,
   "id": "9fd1d81e",
   "metadata": {},
   "outputs": [
    {
     "name": "stdout",
     "output_type": "stream",
     "text": [
      "Right Model for Go Straight\n",
      "Log Probability: -72.38969536991594 \n",
      "\n",
      "Right Model for Idle\n",
      "Log Probability: -443.73008322412426 \n",
      "\n",
      "Right Model for Turn Left\n",
      "Log Probability: -114.42492082992146 \n",
      "\n",
      "Right Model for Turn Right\n",
      "Log Probability: -99.63787069032736 \n",
      "\n",
      "Right Model for Two-Stage Left\n",
      "Log Probability: -275.4526541644972 \n",
      "\n",
      "Right Model for U-turn\n",
      "Log Probability: -412.3778420838799 \n",
      "\n"
     ]
    }
   ],
   "source": [
    "Right_Model_log_prob_GO = Right_Model.logpdf(input_string_Go)\n",
    "print(f\"Right Model for Go Straight\\nLog Probability:\", Right_Model_log_prob_GO,'\\n')\n",
    "\n",
    "Right_Model_log_prob_Idle = Right_Model.logpdf(input_string_Idle)\n",
    "print(f\"Right Model for Idle\\nLog Probability:\", Right_Model_log_prob_Idle,'\\n')\n",
    "\n",
    "Right_Model_log_prob_Left = Right_Model.logpdf(input_string_Left)\n",
    "print(f\"Right Model for Turn Left\\nLog Probability:\", Right_Model_log_prob_Left,'\\n')\n",
    "\n",
    "Right_Model_log_prob_Right = Right_Model.logpdf(input_string_Right)\n",
    "print(f\"Right Model for Turn Right\\nLog Probability:\", Right_Model_log_prob_Right,'\\n')\n",
    "\n",
    "Right_Model_log_prob_Two = Right_Model.logpdf(input_string_Two)\n",
    "print(f\"Right Model for Two-Stage Left\\nLog Probability:\", Right_Model_log_prob_Two,'\\n')\n",
    "\n",
    "Right_Model_log_prob_U = Right_Model.logpdf(input_string_U)\n",
    "print(f\"Right Model for U-turn\\nLog Probability:\", Right_Model_log_prob_U,'\\n')"
   ]
  },
  {
   "cell_type": "code",
   "execution_count": 78,
   "id": "12e22dc2",
   "metadata": {},
   "outputs": [],
   "source": [
    "Two_Model = vomm.ppm()\n",
    "Two_Model.fit(training_data_Two, d=90, alphabet_size=5)"
   ]
  },
  {
   "cell_type": "code",
   "execution_count": 79,
   "id": "d1f933f0",
   "metadata": {},
   "outputs": [
    {
     "name": "stdout",
     "output_type": "stream",
     "text": [
      "Two Model for Go Straight\n",
      "Log Probability: -82.77730871146014 \n",
      "\n",
      "Two Model for Idle\n",
      "Log Probability: -481.1249009691116 \n",
      "\n",
      "Two Model for Turn Left\n",
      "Log Probability: -120.81264548007385 \n",
      "\n",
      "Two Model for Turn Right\n",
      "Log Probability: -103.03454293626277 \n",
      "\n",
      "Two Model for Two-Stage Left\n",
      "Log Probability: -120.74201425913434 \n",
      "\n",
      "Two Model for U-turn\n",
      "Log Probability: -87.68025183886166 \n",
      "\n"
     ]
    }
   ],
   "source": [
    "Two_Model_log_prob_GO = Two_Model.logpdf(input_string_Go)\n",
    "print(f\"Two Model for Go Straight\\nLog Probability:\", Two_Model_log_prob_GO,'\\n')\n",
    "\n",
    "Two_Model_log_prob_Idle = Two_Model.logpdf(input_string_Idle)\n",
    "print(f\"Two Model for Idle\\nLog Probability:\", Two_Model_log_prob_Idle,'\\n')\n",
    "\n",
    "Two_Model_log_prob_Left = Two_Model.logpdf(input_string_Left)\n",
    "print(f\"Two Model for Turn Left\\nLog Probability:\", Two_Model_log_prob_Left,'\\n')\n",
    "\n",
    "Two_Model_log_prob_Right = Two_Model.logpdf(input_string_Right)\n",
    "print(f\"Two Model for Turn Right\\nLog Probability:\", Two_Model_log_prob_Right,'\\n')\n",
    "\n",
    "Two_Model_log_prob_Two = Two_Model.logpdf(input_string_Two)\n",
    "print(f\"Two Model for Two-Stage Left\\nLog Probability:\", Two_Model_log_prob_Two,'\\n')\n",
    "\n",
    "Two_Model_log_prob_U = Two_Model.logpdf(input_string_U)\n",
    "print(f\"Two Model for U-turn\\nLog Probability:\", Two_Model_log_prob_U,'\\n')"
   ]
  },
  {
   "cell_type": "code",
   "execution_count": 80,
   "id": "25769754",
   "metadata": {},
   "outputs": [],
   "source": [
    "U_Model = vomm.ppm()\n",
    "U_Model.fit(training_data_U, d=90, alphabet_size=5)"
   ]
  },
  {
   "cell_type": "code",
   "execution_count": 81,
   "id": "544f6abc",
   "metadata": {},
   "outputs": [
    {
     "name": "stdout",
     "output_type": "stream",
     "text": [
      "U Model for Go Straight\n",
      "Log Probability: -76.65637064334015 \n",
      "\n",
      "U Model for Idle\n",
      "Log Probability: -511.33905953984794 \n",
      "\n",
      "U Model for Turn left\n",
      "Log Probability: -135.89692415434052 \n",
      "\n",
      "U Model for Turn Right\n",
      "Log Probability: -119.69234107755696 \n",
      "\n",
      "U Model for Two-Stage Left\n",
      "Log Probability: -155.02797336886445 \n",
      "\n",
      "U Model for U-turn\n",
      "Log Probability: -101.64625036265546 \n",
      "\n"
     ]
    }
   ],
   "source": [
    "U_Model_log_prob_GO = U_Model.logpdf(input_string_Go)\n",
    "print(f\"U Model for Go Straight\\nLog Probability:\", U_Model_log_prob_GO,'\\n')\n",
    "\n",
    "U_Model_log_prob_Idle = U_Model.logpdf(input_string_Idle)\n",
    "print(f\"U Model for Idle\\nLog Probability:\", U_Model_log_prob_Idle,'\\n')\n",
    "\n",
    "U_Model_log_prob_Left = U_Model.logpdf(input_string_Left)\n",
    "print(f\"U Model for Turn left\\nLog Probability:\", U_Model_log_prob_Left,'\\n')\n",
    "\n",
    "U_Model_log_prob_Right = U_Model.logpdf(input_string_Right)\n",
    "print(f\"U Model for Turn Right\\nLog Probability:\", U_Model_log_prob_Right,'\\n')\n",
    "\n",
    "U_Model_log_prob_Two = U_Model.logpdf(input_string_Two)\n",
    "print(f\"U Model for Two-Stage Left\\nLog Probability:\", U_Model_log_prob_Two,'\\n')\n",
    "\n",
    "U_Model_log_prob_U = U_Model.logpdf(input_string_U)\n",
    "print(f\"U Model for U-turn\\nLog Probability:\", U_Model_log_prob_U,'\\n')"
   ]
  },
  {
   "cell_type": "code",
   "execution_count": null,
   "id": "8383976e",
   "metadata": {},
   "outputs": [],
   "source": []
  },
  {
   "cell_type": "code",
   "execution_count": null,
   "id": "13e8f69b",
   "metadata": {},
   "outputs": [],
   "source": []
  },
  {
   "cell_type": "code",
   "execution_count": null,
   "id": "e2a5f623",
   "metadata": {},
   "outputs": [],
   "source": []
  },
  {
   "cell_type": "code",
   "execution_count": null,
   "id": "7f30c456",
   "metadata": {},
   "outputs": [],
   "source": []
  },
  {
   "cell_type": "code",
   "execution_count": null,
   "id": "c459313a",
   "metadata": {},
   "outputs": [],
   "source": [
    "\n",
    "##############################################################################\n",
    "#\n",
    "#  3群跑ppm\n",
    "#\n",
    "##############################################################################\n"
   ]
  },
  {
   "cell_type": "code",
   "execution_count": 84,
   "id": "d5a265b7",
   "metadata": {},
   "outputs": [],
   "source": [
    "training_data_Go = \"0020011121011012021111102122010020120200102202010100021011201102101002011012211010011222001110011001100010010120110121112121120110221211101201011201111011011101011001111201101010212220011110110000000000110110122002211011000111200120012211011000021220111201111011220001122112101101001111012011100010211100111002110210201012011100100110020101022121011120012212120011010011112100011111001100110221111022211022210001002012101202211011000111002220121110002202100111021100112012011101110102012000011122220001012002121021101110010200010102102221101112101211\" \n",
    "training_data_Go = [int(x) for x in training_data_Go]\n",
    "training_data_Idle = \"0101011101101010111101001010011111010001010000101000011010100100110010101110011100010101010101001010100001010111011001010101010011100100111011100100110001001010110100010101010110101010111011100100101010001101011011010101011101011001101110101110101101011010100011111101010011001000101111010101001010010101101011111001111101001010110011000111110110100010100010101101010101011111010111010101010110101101001010111101000010101101001011110010000100001010111000101001001101010100010101011110101010110101101001100110111101010111010101011110100110010110101010101010111110100100101011011011111110111011011101110010101010101111111101111110101010101011011101101001010101010101010111101100110101011010101001011000111010010100101010111101010101101010101010101110101100101010101001101010101010111011101011010111110010101111101010010100100111010101010101010111010010101110101010110110111001001010111011101010101101010101010111010010110101010101011110101010111011101011110101111010101011100100010011101010101110001100001010110101011110100110011101110111101011101010101011100000110111111010101000111011000101010011101010101010100101100101011100111011100011011010111101101011010011010100100010100111011110100110111011100110101110101011011100111010011100102021121111211020011101010112110022110110110011011010101001110010001100110010011011011001110121111001111100001100100110111001101101101001100120201102211111102111201221020011001101010021211110101010100021001001001001101101010110011101010110021001001001210011100110000011201021111120210011000011011201001010011100100112010211011011010110101100001011001100100211010000100010110010001000100110011001100121001011011010110211001200110110111101001001100011011111110110000211200110120111211001102111010011011001201011201101001001110012211110200110010110110012112111211100111210100111220110111101011100120011100110211212222111101112202101001112010101110011210101111201111202011110110111010121020111022121012101200111101101011201201111011001111201111202100101100100121010010120112111011210110210110101121211111210110100001101101121111101002110110120121102111001211101012001100011111001001201100011201100100100110110010111111220100002021011210112210121110102011011110111100110110010110100010101100011000110010100111001010111010110100101001101011100101001110100000010101010101011010101000010011010100000011110100100101010100101001000101010011000000100011011011001111010110101010010010101010101010111101010010012111102101210221110000110000000000000010001011121110111010010000100101000010010101100111111010110001110001001010101011101100011010101101110101001000010111000110101001110110101011001101111001101011010010110110100010010001001101101001011100011011110111011101101110011010110111101101010010101000101100101100010101001100011000100100101001110110101101101010011111211102121001212001220001011010011011020101100100101211111011001011211021110010010101101110111101010010012010201100001100111011100102111011010011010101000001010110100100110111101101100011011010110101010110111101010100101011010100101010111110101001110010111101011010101001010101100100110011011101000100111010000011011001001010011111111111100101100120010101011110010110001000011100201101110211011001110011000100001102112010001111101011122111210112111100011001000010101101011001100101001010110011001101001000100111010000100101110101110101010010101111001010011101001111010011011101110101110100101000111011101011111100111001111010111001010011011011111010121001010112101010101100100012001100102111010010100111210102111011100100100010210000101101101111011010101011011010110112011010111011011000110100111000011001011001101101110110001011010010010110100101010010101001010010011010100010101011011010111010010100111011110011110110110111001010110110111010011010101101010110110111010110100111011111110110010010101010011101100101011011010101011010011010011001011010101101100101000101011100000100111011011111010010110111111011010111100101001010100101010010011110010101110100110000101000101011101000110101011010101110110010010010011111010101001010101011110110010110010001001110101110000101010111110010110101110110010011110110100101001110100101101101101110010010110110011011011110110011101001100100111100010101010001101011100010100001001010011010101001010011011100110010011100121001011011111000\" \n",
    "training_data_Idle = [int(x) for x in training_data_Idle]\n",
    "training_data_Left = \"010001001220100101211201111100110011111000111010101202102211100210200112121000200101111110000110120000100000001110010211111021111210000022011111011111110000000100111012111102000101111220000001100001111111000200011011110201000122110001111100001111111000110111101102111011111211100001100110211100011101001011000112112200202110012110112210010002101210121122122121210112112111001100121012001101001001010011100120011010100110010001100111100110001022210011020001100010111100111111111110110111112000201011101100200011111111110102021111100111000001202110111111111011111000000000100000000010020021110110011010111\" \n",
    "training_data_Left = [int(x) for x in training_data_Left]\n",
    "training_data_Right = \"011110110020200021111011011211110012000101100011101020200100210011111001111200211112100010110121201210010011010011011201110011001000110100100001001102011100201102010001020001000111120001100021110001011100212111100000011100111001000021211001112011100101202221010110000000002011110121020010002110200112002012001011011112011110010120100201010020012010001101011101201001011021012012110120110010110012011001001110110111121110110110211111111011100011201111111211102111001202002020001001111111110000111110111112101002211120000021010101101011010101\" \n",
    "training_data_Right = [int(x) for x in training_data_Right]\n",
    "training_data_Two = \"2122020210012021201210220000000021220020022202222022200022020020222333333333333333333333333333333333333333333220222002001220212212222222222212220000202010210021220020100000022202000002203333333333333333333333333333333333333330000020122200101020020211220122022222022202221222020021002022002002022220222203033333333333333333333333333333333333333333322221220102002220121202210211022200002212021000222200022020022232333333333333333333333333333333300221211222202020212021221000201111020200102020202201222000200200002220200003333333333333333333333333333333333333332022000220221222002002100102222202012222020022020220022000220222200002200023203333333333333333333333333333333333302221002320222002221020222022120222022202222020201222022020022020022222220202220020022200332333333333333333333333333333330102021120021002002220220102100222011021220201122000022000200010020202022022020000022233333333333333333333333333\" \n",
    "training_data_Two = [int(x) for x in training_data_Two]\n",
    "training_data_U = \"3331313333333333333333333313333313333333333313333333100212210220212002033331133332133331313333333333133133333133333333333333333033332332332101122012011231331333331333333131310113333133331313313333333333333333333333312320000201012020020022003033333313333333313333113133333133303033331333333333333333331333133333230322303123201\" \n",
    "training_data_U = [int(x) for x in training_data_U]"
   ]
  },
  {
   "cell_type": "code",
   "execution_count": 85,
   "id": "1e367a86",
   "metadata": {},
   "outputs": [],
   "source": [
    "input_string_Go = \"21022110120000110210011100000210001201212111021000\"  #\n",
    "input_string_Go = [int(x) for x in input_string_Go]\n",
    "input_string_Idle = \"010101110110101011110100101001111101000101000010100001101010010011001010111001110001010101010100101010000101011101100101010101001110010011101110010011000100101011010001010101011010101011101110010010101000110101101101010101110101100110111010111010110101101010001111110101001100100010111101010100101001010110101111100111110100101011001100011111011010001010001010110101010101111101011101010101011010110100101011110100001010110100101111001000010000101011100010100100110101010001010101111010101011010110100110011011110101011101010101111010011001011010101010101011111010010010101101101111111011101101110111001010101010111111110111111010101010101101110110100101010101010101011110110011010101101010100101100011101001010010101011110101010110101010101010111010110010101010100110101010101011101110101101011111001010111110101001010010011101010101010101011101001010111010101011011011100100101011101110101010110101010101011101001011010101010101111010101011101110101111010111101010101110010001001110101010111000110000101011010101111010011001110111011110101110101010101110000011011111101010100011101100010101001110101010101010010110010101110011101110001101101011110110101101001101010010001010011101111010011011101110011010111010101101110011101001110010202112111121102001110101011211002200200111210110120211111021220100201202001022020101000210112011\" #\n",
    "input_string_Idle = [int(x) for x in input_string_Idle]\n",
    "input_string_Left = \"10011200101100011012001101100000101011112201011000001111100001101000111100111101111010\" #\n",
    "input_string_Left = [int(x) for x in input_string_Left]\n",
    "input_string_Right = \"01110100011110110001210101021111101121200102011011022011111011010000212021\" #\n",
    "input_string_Right = [int(x) for x in input_string_Right]\n",
    "input_string_Two = \"2110212202110110110101101120021101011022010101011100101101001100011111111111011101011001010011010110101101101\" #\n",
    "input_string_Two = [int(x) for x in input_string_Two]\n",
    "input_string_U = \"101120110221002110002112210011012210100111200011101101011111000110212001100100121010101\" #\n",
    "input_string_U = [int(x) for x in input_string_U]"
   ]
  },
  {
   "cell_type": "code",
   "execution_count": 96,
   "id": "711a2fe1",
   "metadata": {},
   "outputs": [],
   "source": [
    "Idle_Model = vomm.ppm()\n",
    "Idle_Model.fit(training_data_Idle, d=90, alphabet_size=5)"
   ]
  },
  {
   "cell_type": "code",
   "execution_count": 97,
   "id": "fa620c8f",
   "metadata": {},
   "outputs": [
    {
     "name": "stdout",
     "output_type": "stream",
     "text": [
      "Idle Model for Go Straight\n",
      "Log Probability: -74.00955914344144 \n",
      "\n",
      "Idle Model for Idle\n",
      "Log Probability: -979.3700690136674 \n",
      "\n",
      "Idle Model for Turn Left\n",
      "Log Probability: -109.57235586382953 \n",
      "\n",
      "Idle Model for Turn Right\n",
      "Log Probability: -105.44711936032138 \n",
      "\n",
      "Idle Model for Two-Stage Left\n",
      "Log Probability: -132.3539302569421 \n",
      "\n",
      "Idle Model for U-turn\n",
      "Log Probability: -112.80617634351897 \n",
      "\n"
     ]
    }
   ],
   "source": [
    "Idle_Model_log_prob_GO = Idle_Model.logpdf(input_string_Go)\n",
    "print(f\"Idle Model for Go Straight\\nLog Probability:\", Idle_Model_log_prob_GO,'\\n')\n",
    "\n",
    "Idle_Model_log_prob_Idle = Idle_Model.logpdf(input_string_Idle)\n",
    "print(f\"Idle Model for Idle\\nLog Probability:\", Idle_Model_log_prob_Idle,'\\n')\n",
    "\n",
    "Idle_Model_log_prob_Left = Idle_Model.logpdf(input_string_Left)\n",
    "print(f\"Idle Model for Turn Left\\nLog Probability:\", Idle_Model_log_prob_Left,'\\n')\n",
    "\n",
    "Idle_Model_log_prob_Right = Idle_Model.logpdf(input_string_Right)\n",
    "print(f\"Idle Model for Turn Right\\nLog Probability:\", Idle_Model_log_prob_Right,'\\n')\n",
    "\n",
    "Idle_Model_log_prob_Two = Idle_Model.logpdf(input_string_Two)\n",
    "print(f\"Idle Model for Two-Stage Left\\nLog Probability:\", Idle_Model_log_prob_Two,'\\n')\n",
    "\n",
    "Idle_Model_log_prob_U = Idle_Model.logpdf(input_string_U)\n",
    "print(f\"Idle Model for U-turn\\nLog Probability:\", Idle_Model_log_prob_U,'\\n')"
   ]
  },
  {
   "cell_type": "code",
   "execution_count": 86,
   "id": "0913b473",
   "metadata": {},
   "outputs": [],
   "source": [
    "Go_Model = vomm.ppm()\n",
    "Go_Model.fit(training_data_Go, d=90, alphabet_size=5)"
   ]
  },
  {
   "cell_type": "code",
   "execution_count": 87,
   "id": "6eb1421b",
   "metadata": {},
   "outputs": [
    {
     "name": "stdout",
     "output_type": "stream",
     "text": [
      "Go Model for Go Straight\n",
      "Log Probability: -73.63513363989927 \n",
      "\n",
      "Go Model for Idle\n",
      "Log Probability: -1842.0739639545486 \n",
      "\n",
      "Go Model for Turn Left\n",
      "Log Probability: -118.7121040890315 \n",
      "\n",
      "Go Model for Turn Right\n",
      "Log Probability: -107.77171892494133 \n",
      "\n",
      "Go Model for Two-Stage Left \n",
      "Log Probability: -160.5027806488248 \n",
      "\n",
      "Go Model for U-turn\n",
      "Log Probability: -131.7350710527016 \n",
      "\n"
     ]
    }
   ],
   "source": [
    "Go_Model_log_prob_GO = Go_Model.logpdf(input_string_Go)\n",
    "print(f\"Go Model for Go Straight\\nLog Probability:\", Go_Model_log_prob_GO,'\\n')\n",
    "Go_Model_log_prob_Idle = Go_Model.logpdf(input_string_Idle)\n",
    "print(f\"Go Model for Idle\\nLog Probability:\", Go_Model_log_prob_Idle,'\\n')\n",
    "Go_Model_log_prob_Left = Go_Model.logpdf(input_string_Left)\n",
    "print(f\"Go Model for Turn Left\\nLog Probability:\", Go_Model_log_prob_Left,'\\n')\n",
    "Go_Model_log_prob_Right = Go_Model.logpdf(input_string_Right)\n",
    "print(f\"Go Model for Turn Right\\nLog Probability:\", Go_Model_log_prob_Right,'\\n')\n",
    "Go_Model_log_prob_Two = Go_Model.logpdf(input_string_Two)\n",
    "print(f\"Go Model for Two-Stage Left \\nLog Probability:\", Go_Model_log_prob_Two,'\\n')\n",
    "Go_Model_log_prob_U = Go_Model.logpdf(input_string_U)\n",
    "print(f\"Go Model for U-turn\\nLog Probability:\", Go_Model_log_prob_U,'\\n')"
   ]
  },
  {
   "cell_type": "code",
   "execution_count": 88,
   "id": "96583ab6",
   "metadata": {},
   "outputs": [],
   "source": [
    "Left_Model = vomm.ppm()\n",
    "Left_Model.fit(training_data_Left, d=90, alphabet_size=5)"
   ]
  },
  {
   "cell_type": "code",
   "execution_count": 89,
   "id": "78f22e89",
   "metadata": {},
   "outputs": [
    {
     "name": "stdout",
     "output_type": "stream",
     "text": [
      "Left Model for Go Straight\n",
      "Log Probability: -69.30640319027665 \n",
      "\n",
      "Left Model for Idle\n",
      "Log Probability: -1907.6370107505236 \n",
      "\n",
      "Left Model for Trun Left\n",
      "Log Probability: -112.93443049902588 \n",
      "\n",
      "Left Model for Turn Right\n",
      "Log Probability: -103.76673498907347 \n",
      "\n",
      "Left Model for Two-Stage Left\n",
      "Log Probability: -154.80620371516582 \n",
      "\n",
      "Left Model for U-turn\n",
      "Log Probability: -124.14112873919217 \n",
      "\n"
     ]
    }
   ],
   "source": [
    "Left_Model_log_prob_GO = Left_Model.logpdf(input_string_Go)\n",
    "print(f\"Left Model for Go Straight\\nLog Probability:\", Left_Model_log_prob_GO,'\\n')\n",
    "\n",
    "Left_Model_log_prob_Idle = Left_Model.logpdf(input_string_Idle)\n",
    "print(f\"Left Model for Idle\\nLog Probability:\", Left_Model_log_prob_Idle,'\\n')\n",
    "\n",
    "Left_Model_log_prob_Left = Left_Model.logpdf(input_string_Left)\n",
    "print(f\"Left Model for Trun Left\\nLog Probability:\", Left_Model_log_prob_Left,'\\n')\n",
    "\n",
    "Left_Model_log_prob_Right = Left_Model.logpdf(input_string_Right)\n",
    "print(f\"Left Model for Turn Right\\nLog Probability:\", Left_Model_log_prob_Right,'\\n')\n",
    "\n",
    "Left_Model_log_prob_Two = Left_Model.logpdf(input_string_Two)\n",
    "print(f\"Left Model for Two-Stage Left\\nLog Probability:\", Left_Model_log_prob_Two,'\\n')\n",
    "\n",
    "Left_Model_log_prob_U = Left_Model.logpdf(input_string_U)\n",
    "print(f\"Left Model for U-turn\\nLog Probability:\", Left_Model_log_prob_U,'\\n')"
   ]
  },
  {
   "cell_type": "code",
   "execution_count": 90,
   "id": "a42b4e53",
   "metadata": {},
   "outputs": [],
   "source": [
    "Right_Model = vomm.ppm()\n",
    "Right_Model.fit(training_data_Right, d=90, alphabet_size=5)"
   ]
  },
  {
   "cell_type": "code",
   "execution_count": 91,
   "id": "38bb05d9",
   "metadata": {},
   "outputs": [
    {
     "name": "stdout",
     "output_type": "stream",
     "text": [
      "Right Model for Go Straight\n",
      "Log Probability: -72.38969536991594 \n",
      "\n",
      "Right Model for Idle\n",
      "Log Probability: -1718.5671283505378 \n",
      "\n",
      "Right Model for Turn Left\n",
      "Log Probability: -114.1732892783781 \n",
      "\n",
      "Right Model for Turn Right\n",
      "Log Probability: -100.37433886779138 \n",
      "\n",
      "Right Model for Two-Stage Left\n",
      "Log Probability: -152.0853231530704 \n",
      "\n",
      "Right Model for U-turn\n",
      "Log Probability: -124.02476831048384 \n",
      "\n"
     ]
    }
   ],
   "source": [
    "Right_Model_log_prob_GO = Right_Model.logpdf(input_string_Go)\n",
    "print(f\"Right Model for Go Straight\\nLog Probability:\", Right_Model_log_prob_GO,'\\n')\n",
    "\n",
    "Right_Model_log_prob_Idle = Right_Model.logpdf(input_string_Idle)\n",
    "print(f\"Right Model for Idle\\nLog Probability:\", Right_Model_log_prob_Idle,'\\n')\n",
    "\n",
    "Right_Model_log_prob_Left = Right_Model.logpdf(input_string_Left)\n",
    "print(f\"Right Model for Turn Left\\nLog Probability:\", Right_Model_log_prob_Left,'\\n')\n",
    "\n",
    "Right_Model_log_prob_Right = Right_Model.logpdf(input_string_Right)\n",
    "print(f\"Right Model for Turn Right\\nLog Probability:\", Right_Model_log_prob_Right,'\\n')\n",
    "\n",
    "Right_Model_log_prob_Two = Right_Model.logpdf(input_string_Two)\n",
    "print(f\"Right Model for Two-Stage Left\\nLog Probability:\", Right_Model_log_prob_Two,'\\n')\n",
    "\n",
    "Right_Model_log_prob_U = Right_Model.logpdf(input_string_U)\n",
    "print(f\"Right Model for U-turn\\nLog Probability:\", Right_Model_log_prob_U,'\\n')"
   ]
  },
  {
   "cell_type": "code",
   "execution_count": 92,
   "id": "5528e1be",
   "metadata": {},
   "outputs": [],
   "source": [
    "Two_Model = vomm.ppm()\n",
    "Two_Model.fit(training_data_Two, d=90, alphabet_size=5)"
   ]
  },
  {
   "cell_type": "code",
   "execution_count": 93,
   "id": "a06dc55b",
   "metadata": {},
   "outputs": [
    {
     "name": "stdout",
     "output_type": "stream",
     "text": [
      "Two Model for Go Straight\n",
      "Log Probability: -80.57648310753612 \n",
      "\n",
      "Two Model for Idle\n",
      "Log Probability: -2393.916687677251 \n",
      "\n",
      "Two Model for Turn Left\n",
      "Log Probability: -150.26476033852143 \n",
      "\n",
      "Two Model for Turn Right\n",
      "Log Probability: -132.62485714167693 \n",
      "\n",
      "Two Model for Two-Stage Left\n",
      "Log Probability: -205.16903267583334 \n",
      "\n",
      "Two Model for U-turn\n",
      "Log Probability: -153.94978959352838 \n",
      "\n"
     ]
    }
   ],
   "source": [
    "Two_Model_log_prob_GO = Two_Model.logpdf(input_string_Go)\n",
    "print(f\"Two Model for Go Straight\\nLog Probability:\", Two_Model_log_prob_GO,'\\n')\n",
    "\n",
    "Two_Model_log_prob_Idle = Two_Model.logpdf(input_string_Idle)\n",
    "print(f\"Two Model for Idle\\nLog Probability:\", Two_Model_log_prob_Idle,'\\n')\n",
    "\n",
    "Two_Model_log_prob_Left = Two_Model.logpdf(input_string_Left)\n",
    "print(f\"Two Model for Turn Left\\nLog Probability:\", Two_Model_log_prob_Left,'\\n')\n",
    "\n",
    "Two_Model_log_prob_Right = Two_Model.logpdf(input_string_Right)\n",
    "print(f\"Two Model for Turn Right\\nLog Probability:\", Two_Model_log_prob_Right,'\\n')\n",
    "\n",
    "Two_Model_log_prob_Two = Two_Model.logpdf(input_string_Two)\n",
    "print(f\"Two Model for Two-Stage Left\\nLog Probability:\", Two_Model_log_prob_Two,'\\n')\n",
    "\n",
    "Two_Model_log_prob_U = Two_Model.logpdf(input_string_U)\n",
    "print(f\"Two Model for U-turn\\nLog Probability:\", Two_Model_log_prob_U,'\\n')"
   ]
  },
  {
   "cell_type": "code",
   "execution_count": 94,
   "id": "9e549cdc",
   "metadata": {},
   "outputs": [],
   "source": [
    "U_Model = vomm.ppm()\n",
    "U_Model.fit(training_data_U, d=90, alphabet_size=5)"
   ]
  },
  {
   "cell_type": "code",
   "execution_count": 95,
   "id": "b0864a9b",
   "metadata": {},
   "outputs": [
    {
     "name": "stdout",
     "output_type": "stream",
     "text": [
      "U Model for Go Straight\n",
      "Log Probability: -88.51491588039389 \n",
      "\n",
      "U Model for Idle\n",
      "Log Probability: -2259.0854425443763 \n",
      "\n",
      "U Model for Turn left\n",
      "Log Probability: -142.53183564669058 \n",
      "\n",
      "U Model for Turn Right\n",
      "Log Probability: -129.48956893183225 \n",
      "\n",
      "U Model for Two-Stage Left\n",
      "Log Probability: -178.0319577908827 \n",
      "\n",
      "U Model for U-turn\n",
      "Log Probability: -143.1555380963222 \n",
      "\n"
     ]
    }
   ],
   "source": [
    "U_Model_log_prob_GO = U_Model.logpdf(input_string_Go)\n",
    "print(f\"U Model for Go Straight\\nLog Probability:\", U_Model_log_prob_GO,'\\n')\n",
    "\n",
    "U_Model_log_prob_Idle = U_Model.logpdf(input_string_Idle)\n",
    "print(f\"U Model for Idle\\nLog Probability:\", U_Model_log_prob_Idle,'\\n')\n",
    "\n",
    "U_Model_log_prob_Left = U_Model.logpdf(input_string_Left)\n",
    "print(f\"U Model for Turn left\\nLog Probability:\", U_Model_log_prob_Left,'\\n')\n",
    "\n",
    "U_Model_log_prob_Right = U_Model.logpdf(input_string_Right)\n",
    "print(f\"U Model for Turn Right\\nLog Probability:\", U_Model_log_prob_Right,'\\n')\n",
    "\n",
    "U_Model_log_prob_Two = U_Model.logpdf(input_string_Two)\n",
    "print(f\"U Model for Two-Stage Left\\nLog Probability:\", U_Model_log_prob_Two,'\\n')\n",
    "\n",
    "U_Model_log_prob_U = U_Model.logpdf(input_string_U)\n",
    "print(f\"U Model for U-turn\\nLog Probability:\", U_Model_log_prob_U,'\\n')"
   ]
  },
  {
   "cell_type": "code",
   "execution_count": null,
   "id": "85d75e7e",
   "metadata": {},
   "outputs": [],
   "source": []
  },
  {
   "cell_type": "code",
   "execution_count": null,
   "id": "6c32ec08",
   "metadata": {},
   "outputs": [],
   "source": []
  }
 ],
 "metadata": {
  "kernelspec": {
   "display_name": "Python 3 (ipykernel)",
   "language": "python",
   "name": "python3"
  },
  "language_info": {
   "codemirror_mode": {
    "name": "ipython",
    "version": 3
   },
   "file_extension": ".py",
   "mimetype": "text/x-python",
   "name": "python",
   "nbconvert_exporter": "python",
   "pygments_lexer": "ipython3",
   "version": "3.9.16"
  }
 },
 "nbformat": 4,
 "nbformat_minor": 5
}
