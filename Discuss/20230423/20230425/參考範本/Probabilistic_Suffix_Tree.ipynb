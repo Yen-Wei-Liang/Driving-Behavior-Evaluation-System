{
 "cells": [
  {
   "cell_type": "markdown",
   "metadata": {},
   "source": [
    "# Defintion of Node Class and Associated Functions\n",
    "Each node consists of\n",
    "- Data/key\n",
    "- Count of the occurrences of the data/key\n",
    "- Pointer to the first child\n",
    "- Pointer to an adjacent sibling"
   ]
  },
  {
   "cell_type": "code",
   "execution_count": 1,
   "metadata": {},
   "outputs": [
    {
     "name": "stdout",
     "output_type": "stream",
     "text": [
      "Requirement already satisfied: pydotplus in c:\\users\\william\\anaconda3\\lib\\site-packages (2.0.2)\n",
      "Requirement already satisfied: pyparsing>=2.0.1 in c:\\users\\william\\anaconda3\\lib\\site-packages (from pydotplus) (3.0.9)\n"
     ]
    }
   ],
   "source": [
    "!pip install pydotplus"
   ]
  },
  {
   "cell_type": "code",
   "execution_count": 2,
   "metadata": {},
   "outputs": [
    {
     "name": "stdout",
     "output_type": "stream",
     "text": [
      "Requirement already satisfied: graphviz in c:\\users\\william\\anaconda3\\lib\\site-packages (0.14.1)\n"
     ]
    }
   ],
   "source": [
    "!pip install graphviz"
   ]
  },
  {
   "cell_type": "code",
   "execution_count": 3,
   "metadata": {},
   "outputs": [],
   "source": [
    "class Node:\n",
    "    \n",
    "    def __init__(self, key = None):\n",
    "        \"\"\"Each node consists of a data/key, count of the occurrences of the data/key\n",
    "        pointer to the first child, pointer to an adjacent sibling\"\"\"\n",
    "        self.data = key\n",
    "        self.count = 1\n",
    "        self.child = None\n",
    "        self.next = None\n",
    "##################################################################        \n",
    "#         self.prob = 0.0\n",
    "##################################################################\n",
    "        \n",
    "    def incrementCount(self):\n",
    "        \"\"\"Increments the count of the data or key associated with the node\"\"\"\n",
    "        self.count += 1\n",
    "    \n",
    "    def setChild(self, child):\n",
    "        \"\"\"Set the child pointer to the first child\"\"\"\n",
    "        self.child = child\n",
    "    \n",
    "    def setNext(self, sibling):\n",
    "        \"\"\"Sets the next pointer to the next sibling\"\"\"\n",
    "        self.next = sibling\n",
    "    \n",
    "    def getData(self):\n",
    "        \"\"\"Returns the data or key associated with the node\"\"\"\n",
    "        return(self.data)\n",
    "    \n",
    "    def getCount(self):\n",
    "        \"\"\"Returns the count of the data or key associated with the node\"\"\"\n",
    "        return(self.count)\n",
    "    \n",
    "    def getChild(self):\n",
    "        \"\"\"Returns the first child of the node\"\"\"\n",
    "        return(self.child)\n",
    "    \n",
    "    def getNext(self):\n",
    "        \"\"\"Returns the adjacent sibling of the node\"\"\"\n",
    "        return(self.next)  \n",
    "    \n",
    "    def setProb(self, parent_count):\n",
    "        self.prob = float(self.count) / float(parent_count)\n",
    "        \n",
    "    def getProb(self):\n",
    "        return self.prob"
   ]
  },
  {
   "cell_type": "markdown",
   "metadata": {},
   "source": [
    "###### Setting the path for libraries required for visualizing a tree"
   ]
  },
  {
   "cell_type": "code",
   "execution_count": 4,
   "metadata": {},
   "outputs": [],
   "source": [
    "import os\n",
    "os.environ['PATH'] = os.environ['PATH'] + ';' + os.environ['CONDA_PREFIX'] + r\"\\Library\\bin\\graphviz\""
   ]
  },
  {
   "cell_type": "markdown",
   "metadata": {},
   "source": [
    "##### Importing libraries required for visualizing a tree"
   ]
  },
  {
   "cell_type": "code",
   "execution_count": 5,
   "metadata": {},
   "outputs": [],
   "source": [
    "import pydotplus\n",
    "from IPython.display import Image, display, clear_output"
   ]
  },
  {
   "cell_type": "markdown",
   "metadata": {},
   "source": [
    "##### Defintion of Probabilistic Suffix Tree Class and Associated Functions\n",
    "It is a generic tree with an empty root node.\n",
    "\n",
    "To keep the number of pointers in a node constant\n",
    "- All the children of a particular parent are in a linked list\n",
    "- The parent points only to the first node (head) of the linked list\n",
    "- A new child is added at the beginning of the linked list"
   ]
  },
  {
   "cell_type": "code",
   "execution_count": 6,
   "metadata": {},
   "outputs": [],
   "source": [
    "import time\n",
    "\n",
    "class PST:\n",
    "    \n",
    "    def __init__(self):\n",
    "        \"\"\"Initialize tree with empty root node\"\"\"\n",
    "        self.root = Node()\n",
    "    \n",
    "    def find(self, current, key):\n",
    "        \"\"\"Finds the node with the given key\"\"\"\n",
    "        while(current != None):\n",
    "            if(current.getData() == key):\n",
    "                return(current)\n",
    "            current = current.getNext()\n",
    "        return(current)\n",
    "    \n",
    "    def fit(self, data, size):\n",
    "        \"\"\" Build a tree on the given data \"\"\"\n",
    "        start = time.time()\n",
    "        if(type(data) != list and type(data) != str):\n",
    "            print(\"Could not fit the data.\")\n",
    "            print(\"Data should be string type or 1D list.\")\n",
    "            if(type(size) != int):\n",
    "                print(\"Buffer size should be an integer.\")\n",
    "        elif(type(size) != int):\n",
    "            print(\"Could not fit the data.\")\n",
    "            print(\"Buffer size should be an integer.\")\n",
    "        else:\n",
    "            for i in range(len(data)):\n",
    "                S = data[i:i+size]\n",
    "                parent = self.root\n",
    "                for j in range(len(S)):\n",
    "                    #self.show()\n",
    "                    current = parent.getChild()\n",
    "                    temp = self.find(current, S[j])\n",
    "                    if(temp != None):\n",
    "                        temp.incrementCount()\n",
    "                    else:\n",
    "                        temp = Node(S[j])\n",
    "                        temp.setNext(current)\n",
    "                        parent.setChild(temp)\n",
    "                    parent = temp\n",
    "##################################################################                    \n",
    "#                  parent_count = parent.getCount()\n",
    "#                  current = parent\n",
    "#                  while(current != None):\n",
    "#                      current.setProb(parent_count)\n",
    "#                      current = current.getNext()\n",
    "##################################################################\n",
    "                    temp.setProb(parent.getCount())\n",
    "            print(\"Fit complete in %0.4f s\" %(time.time()-start))           \n",
    "    \n",
    "    def show(self):\n",
    "        \"\"\"Creates a DOT file of the tree and displays the tree\"\"\"\n",
    "        f = open(\"PST.dot\", 'w')\n",
    "        f.write(\"graph PST {\\n\")\n",
    "        f.write(\"node0\" + \"[label = Root];\\n\")\n",
    "        temp = [self.root]\n",
    "        index = [0]\n",
    "        j = 1\n",
    "        total_count = 0\n",
    "        while(len(temp)):\n",
    "            parent = temp.pop(0)\n",
    "            i = index.pop(0)\n",
    "            current = parent.getChild()\n",
    "            while(current != None):\n",
    "                total_count += current.getCount()\n",
    "                f.write(\"node\" + str(j) + \"[label = \" + str(current.getData()) + \"];\\n\")\n",
    "                f.write(\"\\\"node\" + str(i) + \"\\\" -- \" + \"\\\"node\" + str(j) + \n",
    "                        \"\\\"[label = \" + str(current.getCount()) + \", \"+\n",
    "                        \"prob = \" + str(round(float(current.getCount())/total_count, 2)) + \"]\" + \";\\n\")\n",
    "                temp.append(current)\n",
    "                current = current.getNext()\n",
    "                index.append(j)\n",
    "                j += 1\n",
    "        f.write(\"}\")\n",
    "        f.close()\n",
    "        graph = pydotplus.graph_from_dot_file(\"PST.dot\")\n",
    "        graph.set_size('\"100,100!\"')\n",
    "        clear_output(wait=True)\n",
    "        display(Image(graph.create_png()))\n",
    "        graph.write_png(\"PST.png\")"
   ]
  },
  {
   "cell_type": "markdown",
   "metadata": {},
   "source": [
    "##### Fitting a PST on the sequence 'AABABCDEFABABCD' with a buffer size of 4"
   ]
  },
  {
   "cell_type": "code",
   "execution_count": null,
   "metadata": {},
   "outputs": [],
   "source": [
    "a = PST()\n",
    "a.fit(\"AABABCDEFABABCD\", 4)\n",
    "a.show()"
   ]
  },
  {
   "cell_type": "markdown",
   "metadata": {},
   "source": [
    "##### Importing dataset containing hourly energy consumption for a period of 10 years\n",
    "The dataset is available. Only one of the files from the dataset is used for fitting a PST."
   ]
  },
  {
   "cell_type": "code",
   "execution_count": null,
   "metadata": {},
   "outputs": [],
   "source": [
    "import numpy as np\n",
    "data = np.genfromtxt('AEP_hourly.csv', delimiter = ',', skip_header = 1)\n",
    "data = np.array(data[:,1], ndmin = 2).T"
   ]
  },
  {
   "cell_type": "code",
   "execution_count": null,
   "metadata": {
    "scrolled": true
   },
   "outputs": [],
   "source": [
    "data.shape"
   ]
  },
  {
   "cell_type": "code",
   "execution_count": null,
   "metadata": {},
   "outputs": [],
   "source": [
    "data = data[:500]"
   ]
  },
  {
   "cell_type": "markdown",
   "metadata": {},
   "source": [
    "##### Importing libraries required for clustering the data"
   ]
  },
  {
   "cell_type": "code",
   "execution_count": null,
   "metadata": {},
   "outputs": [],
   "source": [
    "from scipy.cluster.vq import kmeans, whiten"
   ]
  },
  {
   "cell_type": "markdown",
   "metadata": {},
   "source": [
    "##### Scaling the data to have unit variance and performing k-Means on the scaled data"
   ]
  },
  {
   "cell_type": "code",
   "execution_count": null,
   "metadata": {},
   "outputs": [],
   "source": [
    "data = whiten(data)\n",
    "means, distortion = kmeans(data, k_or_guess = 5)"
   ]
  },
  {
   "cell_type": "markdown",
   "metadata": {},
   "source": [
    "##### Assigning non-numeric label to each data"
   ]
  },
  {
   "cell_type": "code",
   "execution_count": null,
   "metadata": {},
   "outputs": [],
   "source": [
    "labels = []\n",
    "label = ['A', 'B', 'C', 'D', 'E']\n",
    "for i in range(len(data)):\n",
    "    labels.append(label[np.argmin((means - data[i])**2)])"
   ]
  },
  {
   "cell_type": "markdown",
   "metadata": {},
   "source": [
    "##### Fitting a PST on the clustered data labels"
   ]
  },
  {
   "cell_type": "code",
   "execution_count": null,
   "metadata": {},
   "outputs": [],
   "source": [
    "pst = PST()\n",
    "pst.fit(labels, 4)\n",
    "pst.show()"
   ]
  }
 ],
 "metadata": {
  "kernelspec": {
   "display_name": "Python 3 (ipykernel)",
   "language": "python",
   "name": "python3"
  },
  "language_info": {
   "codemirror_mode": {
    "name": "ipython",
    "version": 3
   },
   "file_extension": ".py",
   "mimetype": "text/x-python",
   "name": "python",
   "nbconvert_exporter": "python",
   "pygments_lexer": "ipython3",
   "version": "3.9.13"
  }
 },
 "nbformat": 4,
 "nbformat_minor": 2
}
